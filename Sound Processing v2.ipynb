{
 "cells": [
  {
   "cell_type": "code",
   "execution_count": 2,
   "metadata": {
    "collapsed": true,
    "deletable": true,
    "editable": true
   },
   "outputs": [],
   "source": [
    "import numpy as np\n",
    "from pylab import *\n",
    "from scipy.io import wavfile\n",
    "import matplotlib.pyplot as plt\n",
    "from scipy import interpolate\n",
    "from os import listdir"
   ]
  },
  {
   "cell_type": "code",
   "execution_count": 3,
   "metadata": {
    "collapsed": false,
    "deletable": true,
    "editable": true
   },
   "outputs": [],
   "source": [
    "'''\n",
    "compileAnimals = f(compileData, addResponse)\n",
    "compileData = f(changeSampleRate, dataSlice)\n",
    "'''\n",
    "\n",
    "\n",
    "def changeSampleRate(array, rate, new_rate = 166600):\n",
    "    '''\n",
    "    Returns signal converted to new sample rate\n",
    "    \n",
    "    '''\n",
    "    \n",
    "    length = len(array)\n",
    "    \n",
    "    x = np.arange(0, length)\n",
    "    y = array[0:length]\n",
    "    f = interpolate.interp1d(x, y, kind = 'nearest')\n",
    "    \n",
    "    step = rate/float(new_rate)\n",
    "    \n",
    "    xnew = np.arange(0, length - 1, step)\n",
    "    ynew = f(xnew)\n",
    "\n",
    "    return ynew\n",
    "\n",
    "def dataSlice(array, slicelength = 166600):\n",
    "    '''\n",
    "    input array and desired length of slices\n",
    "    output list of data slices\n",
    "    '''\n",
    "    \n",
    "    data = []\n",
    "    slices = len(array)//slicelength\n",
    "    \n",
    "    \n",
    "    for index in np.arange(slices):\n",
    "        start = index*slicelength\n",
    "        end = start + slicelength\n",
    "        datum = array[start:end]\n",
    "        data.append(datum)\n",
    "    \n",
    "    return np.array(data)\n",
    "\n",
    "def compileData(path):\n",
    "    files = listdir(path)\n",
    "    data = []\n",
    "    for f in files:\n",
    "        sampFreq, signal = wavfile.read(path + f)\n",
    "        new_signal = changeSampleRate(signal, sampFreq)\n",
    "        sliced_signals = dataSlice(new_signal)\n",
    "\n",
    "        if sliced_signals.shape == (0,): # some signals are too short, remove them so \n",
    "            pass                         # there isn't an error in np.vstack below\n",
    "        else:\n",
    "            data.append(sliced_signals)\n",
    "            del sliced_signals\n",
    "\n",
    "\n",
    "    data_numpified = np.vstack(tuple(data))\n",
    "    del data\n",
    "\n",
    "    return data_numpified\n",
    "\n",
    "def addResponse(array, label):\n",
    "    '''\n",
    "    Adds responses to data matrix\n",
    "    '''\n",
    "    column = np.zeros((array.shape[0],1))\n",
    "    \n",
    "    column.fill(label)\n",
    "    \n",
    "    #print(array.shape, column.shape)\n",
    "    array_new = np.hstack((array, column))\n",
    "    del array, column\n",
    "    \n",
    "    return array_new\n",
    "\n",
    "def compileAnimals(feed_dict):\n",
    "    \n",
    "    data = []\n",
    "    for animal in feed_dict.keys():\n",
    "    \n",
    "        array = compileData(animal)\n",
    "        array_new = addResponse(array, feed_dict[animal])\n",
    "\n",
    "        data.append(array_new)\n",
    "\n",
    "        del array, array_new\n",
    "\n",
    "    data = tuple(data)\n",
    "    database = np.vstack(data)\n",
    "    \n",
    "    return database"
   ]
  },
  {
   "cell_type": "code",
   "execution_count": 37,
   "metadata": {
    "collapsed": false,
    "deletable": true,
    "editable": true
   },
   "outputs": [
    {
     "name": "stderr",
     "output_type": "stream",
     "text": [
      "/usr/local/lib/python3.5/dist-packages/scipy/io/wavfile.py:267: WavFileWarning: Chunk (non-data) not understood, skipping it.\n",
      "  WavFileWarning)\n"
     ]
    }
   ],
   "source": [
    "feed_dict = {'./BD15C/':0,\n",
    "             './BD6A/':1,\n",
    "             './BD6B/':2,\n",
    "             './BD15C/':3\n",
    "            }\n",
    "\n",
    "database = compileAnimals(feed_dict)"
   ]
  },
  {
   "cell_type": "code",
   "execution_count": 42,
   "metadata": {
    "collapsed": false,
    "deletable": true,
    "editable": true
   },
   "outputs": [
    {
     "data": {
      "text/plain": [
       "(21, 166601)"
      ]
     },
     "execution_count": 42,
     "metadata": {},
     "output_type": "execute_result"
    }
   ],
   "source": [
    "database[database[:,-1] == 5].shape"
   ]
  },
  {
   "cell_type": "code",
   "execution_count": 43,
   "metadata": {
    "collapsed": false,
    "deletable": true,
    "editable": true
   },
   "outputs": [],
   "source": [
    "np.save('database2.npy', database)"
   ]
  },
  {
   "cell_type": "code",
   "execution_count": 36,
   "metadata": {
    "collapsed": false,
    "deletable": true,
    "editable": true
   },
   "outputs": [
    {
     "data": {
      "text/plain": [
       "array([[  2.60800000e+03,   2.60800000e+03,   2.62400000e+03, ...,\n",
       "          2.56000000e+02,   7.84000000e+02,   2.00000000e+00],\n",
       "       [  2.24000000e+02,   2.24000000e+02,   1.28000000e+02, ...,\n",
       "          6.40000000e+01,   2.72000000e+02,   2.00000000e+00],\n",
       "       [ -5.28000000e+02,  -5.28000000e+02,  -1.44000000e+02, ...,\n",
       "          1.07200000e+03,  -3.44000000e+03,   2.00000000e+00],\n",
       "       ..., \n",
       "       [ -4.32000000e+02,  -4.32000000e+02,  -5.60000000e+02, ...,\n",
       "          7.20000000e+02,  -1.44000000e+02,   4.00000000e+00],\n",
       "       [ -4.80000000e+02,  -4.80000000e+02,  -4.16000000e+02, ...,\n",
       "          2.56000000e+03,   7.45600000e+03,   4.00000000e+00],\n",
       "       [  0.00000000e+00,   0.00000000e+00,   4.80000000e+01, ...,\n",
       "          3.74400000e+03,   4.60800000e+03,   4.00000000e+00]])"
      ]
     },
     "execution_count": 36,
     "metadata": {},
     "output_type": "execute_result"
    }
   ],
   "source": [
    "np.load('database.npy')"
   ]
  },
  {
   "cell_type": "code",
   "execution_count": 1,
   "metadata": {
    "collapsed": false,
    "deletable": true,
    "editable": true
   },
   "outputs": [
    {
     "ename": "NameError",
     "evalue": "name 'database' is not defined",
     "output_type": "error",
     "traceback": [
      "\u001b[0;31m---------------------------------------------------------------------------\u001b[0m",
      "\u001b[0;31mNameError\u001b[0m                                 Traceback (most recent call last)",
      "\u001b[0;32m<ipython-input-1-4553dceb0439>\u001b[0m in \u001b[0;36m<module>\u001b[0;34m()\u001b[0m\n\u001b[0;32m----> 1\u001b[0;31m \u001b[0mdatabase\u001b[0m\u001b[0;34m\u001b[0m\u001b[0m\n\u001b[0m",
      "\u001b[0;31mNameError\u001b[0m: name 'database' is not defined"
     ]
    }
   ],
   "source": [
    "database"
   ]
  },
  {
   "cell_type": "code",
   "execution_count": null,
   "metadata": {
    "collapsed": true,
    "deletable": true,
    "editable": true
   },
   "outputs": [],
   "source": []
  }
 ],
 "metadata": {
  "kernelspec": {
   "display_name": "Python 2",
   "language": "python",
   "name": "python2"
  },
  "language_info": {
   "codemirror_mode": {
    "name": "ipython",
    "version": 2
   },
   "file_extension": ".py",
   "mimetype": "text/x-python",
   "name": "python",
   "nbconvert_exporter": "python",
   "pygments_lexer": "ipython2",
   "version": "2.7.12"
  }
 },
 "nbformat": 4,
 "nbformat_minor": 1
}
