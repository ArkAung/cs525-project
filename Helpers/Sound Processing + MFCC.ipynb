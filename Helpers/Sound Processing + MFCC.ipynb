{
 "cells": [
  {
   "cell_type": "code",
   "execution_count": 1,
   "metadata": {
    "collapsed": true,
    "deletable": true,
    "editable": true
   },
   "outputs": [],
   "source": [
    "%matplotlib inline\n",
    "\n",
    "import numpy as np\n",
    "from pylab import *\n",
    "from scipy.io import wavfile\n",
    "import matplotlib.pyplot as plt\n",
    "from scipy import interpolate\n",
    "from os import listdir\n",
    "import librosa\n",
    "import tensorflow as tf\n",
    "from matplotlib.pyplot import specgram"
   ]
  },
  {
   "cell_type": "code",
   "execution_count": 2,
   "metadata": {
    "collapsed": false,
    "deletable": true,
    "editable": true
   },
   "outputs": [],
   "source": [
    "'''\n",
    "compileAnimals = f(compileData, addResponse)\n",
    "compileData = f(changeSampleRate, dataSlice)\n",
    "'''\n",
    "\n",
    "\n",
    "def changeSampleRate(array, rate, new_rate = 166600):\n",
    "    '''\n",
    "    Returns signal converted to new sample rate\n",
    "    \n",
    "    '''\n",
    "    \n",
    "    length = len(array)\n",
    "    \n",
    "    x = np.arange(0, length)\n",
    "    y = array[0:length]\n",
    "    f = interpolate.interp1d(x, y, kind = 'nearest')\n",
    "    \n",
    "    step = rate/float(new_rate)\n",
    "    \n",
    "    xnew = np.arange(0, length - 1, step)\n",
    "    ynew = f(xnew)\n",
    "\n",
    "    return ynew\n",
    "\n",
    "def dataSlice(array, slicelength = 166600):\n",
    "    '''\n",
    "    input array and desired length of slices\n",
    "    output list of data slices\n",
    "    '''\n",
    "    \n",
    "    data = []\n",
    "    slices = len(array)//slicelength\n",
    "    \n",
    "    \n",
    "    for index in np.arange(slices):\n",
    "        start = index*slicelength\n",
    "        end = start + slicelength\n",
    "        datum = array[start:end]\n",
    "        data.append(datum)\n",
    "    \n",
    "    return np.array(data)\n",
    "\n",
    "def compileData(path):\n",
    "    files = listdir(path)\n",
    "    data = []\n",
    "    for f in files:\n",
    "        X,sr = librosa.load(path + f)\n",
    "        new_signal = changeSampleRate(X, sr)\n",
    "        sliced_signals = dataSlice(new_signal)\n",
    "\n",
    "        if sliced_signals.shape == (0,): # some signals are too short, remove them so \n",
    "            pass                         # there isn't an error in np.vstack below\n",
    "        else:\n",
    "            mfccs = librosa.feature.mfcc(y=sliced_signals, sr=sr, n_mfcc=40)\n",
    "            data.append(mfccs)\n",
    "            del sliced_signals\n",
    "\n",
    "\n",
    "    data_numpified = np.vstack(tuple(data))\n",
    "    del data\n",
    "\n",
    "    return data_numpified\n",
    "\n",
    "def addResponse(array, label):\n",
    "    '''\n",
    "    Adds responses to data matrix\n",
    "    '''\n",
    "    column = np.zeros((array.shape[0],1))\n",
    "    \n",
    "    column.fill(label)\n",
    "    \n",
    "    #print(array.shape, column.shape)\n",
    "    array_new = np.hstack((array, column))\n",
    "    del array, column\n",
    "    \n",
    "    return array_new\n",
    "\n",
    "def compileAnimals(feed_dict):\n",
    "    \n",
    "    data = []\n",
    "    for animal in feed_dict.keys():\n",
    "    \n",
    "        array = compileData(animal)\n",
    "        array_new = addResponse(array, feed_dict[animal])\n",
    "\n",
    "        data.append(array_new)\n",
    "\n",
    "        del array, array_new\n",
    "\n",
    "    data = tuple(data)\n",
    "    database = np.vstack(data)\n",
    "    \n",
    "    return database"
   ]
  },
  {
   "cell_type": "code",
   "execution_count": null,
   "metadata": {
    "collapsed": false,
    "deletable": true,
    "editable": true
   },
   "outputs": [],
   "source": [
    "feed_dict = {'./BD15L/':0,\n",
    "             './BD6A/':1,\n",
    "             './BD6B/':2,\n",
    "             './BD15C/':3\n",
    "            }\n",
    "\n",
    "database = compileAnimals(feed_dict)"
   ]
  },
  {
   "cell_type": "code",
   "execution_count": null,
   "metadata": {
    "collapsed": false,
    "deletable": true,
    "editable": true
   },
   "outputs": [],
   "source": [
    "database[database[:,-1] == 2].shape"
   ]
  },
  {
   "cell_type": "code",
   "execution_count": null,
   "metadata": {
    "collapsed": false,
    "deletable": true,
    "editable": true
   },
   "outputs": [],
   "source": [
    "np.save('database_mfcc.npy', database)"
   ]
  },
  {
   "cell_type": "code",
   "execution_count": null,
   "metadata": {
    "collapsed": false,
    "deletable": true,
    "editable": true
   },
   "outputs": [],
   "source": [
    "np.load('database.npy')"
   ]
  },
  {
   "cell_type": "code",
   "execution_count": null,
   "metadata": {
    "collapsed": false,
    "deletable": true,
    "editable": true
   },
   "outputs": [],
   "source": [
    "database"
   ]
  }
 ],
 "metadata": {
  "kernelspec": {
   "display_name": "Python 2",
   "language": "python",
   "name": "python2"
  },
  "language_info": {
   "codemirror_mode": {
    "name": "ipython",
    "version": 2
   },
   "file_extension": ".py",
   "mimetype": "text/x-python",
   "name": "python",
   "nbconvert_exporter": "python",
   "pygments_lexer": "ipython2",
   "version": "2.7.13"
  }
 },
 "nbformat": 4,
 "nbformat_minor": 1
}
