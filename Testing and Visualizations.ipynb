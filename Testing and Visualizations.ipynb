{
 "cells": [
  {
   "cell_type": "code",
   "execution_count": null,
   "metadata": {
    "collapsed": false
   },
   "outputs": [],
   "source": [
    "%matplotlib inline\n",
    "import scipy.io.wavfile\n",
    "import bob.ap\n",
    "import numpy\n",
    "import matplotlib.pyplot as plt"
   ]
  },
  {
   "cell_type": "code",
   "execution_count": null,
   "metadata": {
    "collapsed": false
   },
   "outputs": [],
   "source": [
    "rate, signal = scipy.io.wavfile.read(str('7100300N.wav')) \n",
    "print rate\n",
    "print signal\n",
    "print float(len(signal))/rate"
   ]
  },
  {
   "cell_type": "markdown",
   "metadata": {},
   "source": [
    "### Configurations"
   ]
  },
  {
   "cell_type": "code",
   "execution_count": null,
   "metadata": {
    "collapsed": true
   },
   "outputs": [],
   "source": [
    "win_length_ms = 20 # The window length of the cepstral analysis in milliseconds\n",
    "win_shift_ms = 10 # The window shift of the cepstral analysis in milliseconds\n",
    "n_filters = 24 # The number of filter bands\n",
    "n_ceps = 5 # The number of cepstral coefficients\n",
    "f_min = 0. # The minimal frequency of the filter bank\n",
    "f_max = 4000. # The maximal frequency of the filter bank\n",
    "delta_win = 2 # The integer delta value used for computing the first and second order derivatives\n",
    "pre_emphasis_coef = 0.97 # The coefficient used for the pre-emphasis\n",
    "dct_norm = True # A factor by which the cepstral coefficients are multiplied\n",
    "mel_scale = True # Tell whether cepstral features are extracted on a linear (LFCC) or Mel (MFCC) scale"
   ]
  },
  {
   "cell_type": "code",
   "execution_count": null,
   "metadata": {
    "collapsed": false
   },
   "outputs": [],
   "source": [
    "c = bob.ap.Ceps(rate, win_length_ms, win_shift_ms,\n",
    "                n_filters, n_ceps, f_min, f_max,\n",
    "                delta_win, pre_emphasis_coef, mel_scale, dct_norm)\n",
    "\n",
    "signal = numpy.cast['float'](signal) # vector should be in **float**\n",
    "mfcc = c(signal)\n",
    "print len(mfcc)\n",
    "print len(mfcc[0])\n",
    "print 'mfcc',mfcc"
   ]
  },
  {
   "cell_type": "markdown",
   "metadata": {},
   "source": [
    "### Numpy Array shape and visualizations\n"
   ]
  },
  {
   "cell_type": "code",
   "execution_count": null,
   "metadata": {
    "collapsed": true
   },
   "outputs": [],
   "source": [
    "print mfcc.shape"
   ]
  },
  {
   "cell_type": "code",
   "execution_count": null,
   "metadata": {
    "collapsed": false
   },
   "outputs": [],
   "source": [
    "print mfcc[0]\n",
    "print mfcc[1]\n",
    "print mfcc[2]"
   ]
  },
  {
   "cell_type": "code",
   "execution_count": null,
   "metadata": {
    "collapsed": false
   },
   "outputs": [],
   "source": [
    "plt.figure( figsize=(80, 50))\n",
    "plt.show(plt.imshow(mfcc.T[:10,:]))"
   ]
  }
 ],
 "metadata": {
  "anaconda-cloud": {},
  "kernelspec": {
   "display_name": "Python 2",
   "language": "python",
   "name": "python2"
  },
  "language_info": {
   "codemirror_mode": {
    "name": "ipython",
    "version": 2
   },
   "file_extension": ".py",
   "mimetype": "text/x-python",
   "name": "python",
   "nbconvert_exporter": "python",
   "pygments_lexer": "ipython2",
   "version": "2.7.13"
  }
 },
 "nbformat": 4,
 "nbformat_minor": 2
}
